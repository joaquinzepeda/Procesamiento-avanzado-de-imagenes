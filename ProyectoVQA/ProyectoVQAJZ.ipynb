{
  "nbformat": 4,
  "nbformat_minor": 0,
  "metadata": {
    "colab": {
      "provenance": []
    },
    "kernelspec": {
      "name": "python3",
      "display_name": "Python 3"
    },
    "language_info": {
      "name": "python"
    }
  },
  "cells": [
    {
      "cell_type": "markdown",
      "source": [
        "# Desarrollo proyecto VQA por Joaquin Zepeda\n",
        "\n",
        "A continuación se presenta la recopilación de los códigos realizados para la tarea, debido a que el entrenamiento podia demorar más de una hora, se realizaron distintos archivos para ejecutarse en paralelo de forma de ser más eficiente, todo esto se recopila en este archivo."
      ],
      "metadata": {
        "id": "ae56y3w89ZAh"
      }
    },
    {
      "cell_type": "markdown",
      "source": [
        "# Desacarga de los datos"
      ],
      "metadata": {
        "id": "yyjegN_m-BXR"
      }
    },
    {
      "cell_type": "code",
      "execution_count": null,
      "metadata": {
        "colab": {
          "base_uri": "https://localhost:8080/"
        },
        "id": "oOQp8gEc1qtG",
        "outputId": "75ece0c9-2309-4fea-e4cc-30a0cfe7908c"
      },
      "outputs": [
        {
          "output_type": "stream",
          "name": "stdout",
          "text": [
            "Questions_Train_abs 100%[===================>]   4.39M  2.82MB/s    in 1.6s    \n",
            "Questions_Val_abstr 100%[===================>]   2.13M  1.58MB/s    in 1.4s    \n",
            "scene_img_abstract_ 100%[===================>]   2.71G  8.74MB/s    in 4m 19s  \n",
            "scene_img_abstract_ 100%[===================>]   1.35G  8.31MB/s    in 2m 32s  \n",
            "Annotations_Train_a 100%[===================>]   2.53M  1.63MB/s    in 1.6s    \n",
            "Annotations_Val_abs 100%[===================>]   1.26M   963KB/s    in 1.3s    \n"
          ]
        }
      ],
      "source": [
        "# Download datasete\n",
        "!wget -q -N --show-progress https://s3.amazonaws.com/cvmlp/vqa/abstract_v002/vqa/Questions_Train_abstract_v002.zip\n",
        "!wget -q -N --show-progress https://s3.amazonaws.com/cvmlp/vqa/abstract_v002/vqa/Questions_Val_abstract_v002.zip\n",
        "!wget -q -N --show-progress https://s3.amazonaws.com/cvmlp/vqa/abstract_v002/scene_img/scene_img_abstract_v002_train2015.zip\n",
        "!wget -q -N --show-progress https://s3.amazonaws.com/cvmlp/vqa/abstract_v002/scene_img/scene_img_abstract_v002_val2015.zip\n",
        "!wget -q -N --show-progress https://s3.amazonaws.com/cvmlp/vqa/abstract_v002/vqa/Annotations_Train_abstract_v002.zip\n",
        "!wget -q -N --show-progress https://s3.amazonaws.com/cvmlp/vqa/abstract_v002/vqa/Annotations_Val_abstract_v002.zip\n",
        "\n",
        "!mkdir -p {Questions/train Questions/test Questions/val Images/train Images/test Images/val Annotations/train Annotations/val}\n",
        "\n",
        "!unzip -q -n Questions_Train_abstract_v002.zip -d Questions\n",
        "!unzip -q -n Questions_Val_abstract_v002.zip -d Questions\n",
        "!unzip -q -n scene_img_abstract_v002_train2015.zip -d Images/train\n",
        "!unzip -q -n scene_img_abstract_v002_val2015.zip -d Images/val\n",
        "!unzip -q -n Annotations_Train_abstract_v002.zip -d Annotations\n",
        "!unzip -q -n Annotations_Val_abstract_v002.zip -d Annotations"
      ]
    },
    {
      "cell_type": "code",
      "execution_count": null,
      "metadata": {
        "id": "Xg7YbvkHChNj"
      },
      "outputs": [],
      "source": [
        "# Remove unnecessary zip files.\n",
        "\n",
        "!rm Questions_Train_abstract_v002.zip\n",
        "!rm Questions_Val_abstract_v002.zip\n",
        "\n",
        "!rm scene_img_abstract_v002_train2015.zip\n",
        "!rm scene_img_abstract_v002_val2015.zip\n",
        "\n",
        "!rm Annotations_Train_abstract_v002.zip\n",
        "!rm Annotations_Val_abstract_v002.zip\n",
        "##########################################################"
      ]
    },
    {
      "cell_type": "markdown",
      "source": [
        "### Inicializamos las semillas"
      ],
      "metadata": {
        "id": "euX61LxO-6KJ"
      }
    },
    {
      "cell_type": "code",
      "execution_count": null,
      "metadata": {
        "id": "qow7zHrFpgSX"
      },
      "outputs": [],
      "source": [
        "import torch\n",
        "import numpy as np\n",
        "import random\n",
        "\n",
        "SEED = 1234\n",
        "\n",
        "\n",
        "torch.backends.cudnn.deterministic = True\n",
        "torch.backends.cudnn.benchmark = False\n",
        "torch.manual_seed(SEED)\n",
        "torch.cuda.manual_seed_all(SEED)\n",
        "np.random.seed(SEED)\n",
        "random.seed(SEED)"
      ]
    },
    {
      "cell_type": "markdown",
      "source": [
        "## Flag BOW\n",
        "\n",
        "Si BOW es True, se ejecuta todo lo correspondiente a la primera implementación, la cual corresponde a un modulo de lenguaje BOW + un modulo de vision VGG19 + MLP. En caso contrario se ejecuta la segunda implementación la cual cambia el modelo de lenguaje por una LSTM y mantiene lo demás."
      ],
      "metadata": {
        "id": "Cd11gmrH-USK"
      }
    },
    {
      "cell_type": "code",
      "execution_count": null,
      "metadata": {
        "id": "o1N9I1IFRteS"
      },
      "outputs": [],
      "source": [
        "BOW = True"
      ]
    },
    {
      "cell_type": "markdown",
      "metadata": {
        "id": "RtwdwWUMJE8F"
      },
      "source": [
        "# Codificando las palabras\n",
        "\n",
        "Vamos a representar cada palabra con un único número entero que representará su índice.\n",
        "Para eso construiremos un diccionario que mapee palabras a números. La verdad es que son muy similares los vocabularios, hay muy pequeños cambios."
      ]
    },
    {
      "cell_type": "markdown",
      "source": [
        "## Vocabulario para el BoW\n",
        "\n",
        "Se separan los vocabularios para las preguntas y para las respuestas."
      ],
      "metadata": {
        "id": "eoFoyoGx_XCp"
      }
    },
    {
      "cell_type": "code",
      "execution_count": null,
      "metadata": {
        "id": "GhOLbIkGHGwO"
      },
      "outputs": [],
      "source": [
        "import re\n",
        "from string import punctuation\n",
        "import os\n",
        "import numpy as np\n",
        "from collections import defaultdict\n",
        "import json\n",
        "\n",
        "def make_bow_qst_vocabulary(input_dir,n_words):\n",
        "    SENTENCE_SPLIT_REGEX = re.compile(r'(\\W+)')\n",
        "    questions_dict = dict()\n",
        "    preguntas = []\n",
        "    datasets = os.listdir(input_dir)\n",
        "    for dataset in ['MultipleChoice_abstract_v002_train2015_questions.json','MultipleChoice_abstract_v002_val2015_questions.json']:\n",
        "        with open(input_dir+'/'+dataset) as f:\n",
        "            questions = json.load(f)['questions']\n",
        "        for question in questions:\n",
        "            all_text = question['question'].lower()\n",
        "            all_text = ''.join([c for c in all_text if c not in punctuation])\n",
        "            words = SENTENCE_SPLIT_REGEX.split(all_text)\n",
        "            preguntas.append(all_text)\n",
        "            for word in words:\n",
        "                word=word.strip()                \n",
        "                if word not in questions_dict:\n",
        "                    questions_dict[word] = 1                \n",
        "                if re.search(r\"[^\\w\\s]\", word):\n",
        "                    continue\n",
        "                questions_dict[word] += 1                \n",
        "    questions_dict = sorted( questions_dict, key= questions_dict.get, reverse=True)\n",
        "    top_answers = ['<unk>'] +  questions_dict[:n_words-1] # '-1' is due to '<unk>'\n",
        "    \n",
        "    return top_answers,  questions_dict[:n_words], preguntas\n",
        "\n",
        "def make_bow_ans_vocabulary(input_dir,n_words):\n",
        "    SENTENCE_SPLIT_REGEX = re.compile(r'(\\W+)')\n",
        "    ans_dict = dict()\n",
        "    datasets = os.listdir(input_dir)\n",
        "    answers = []\n",
        "    for dataset in ['abstract_v002_train2015_annotations.json','abstract_v002_val2015_annotations.json']:\n",
        "        with open(input_dir+'/'+dataset) as f:\n",
        "            annotations = json.load(f)['annotations']\n",
        "        for annotation in annotations:\n",
        "            for answer in annotation['answers']:\n",
        "                word = answer['answer'].strip()\n",
        "                if re.search(r\"[^\\w\\s]\", word):\n",
        "                    continue\n",
        "                if word not in ans_dict:\n",
        "                    ans_dict[word] = 1\n",
        "                ans_dict[word] += 1\n",
        "                \n",
        "    ans_dict = sorted( ans_dict, key= ans_dict.get, reverse=True)\n",
        "    top_answers = ans_dict[:n_words-1] # '-1' is due to '<unk>'\n",
        "    \n",
        "    return top_answers,  ans_dict[:n_words]"
      ]
    },
    {
      "cell_type": "markdown",
      "source": [
        "## Vocabulario para la LSTM\n",
        "\n",
        "Se separan nuevamente los vocabularios para las preguntas y respuestas."
      ],
      "metadata": {
        "id": "jOGxgWIhACNZ"
      }
    },
    {
      "cell_type": "code",
      "execution_count": null,
      "metadata": {
        "id": "FNpAJaO_L8KM"
      },
      "outputs": [],
      "source": [
        "import re\n",
        "from string import punctuation\n",
        "import os\n",
        "import numpy as np\n",
        "from collections import defaultdict\n",
        "\n",
        "def make_vocab_questions(input_dir):\n",
        "    \"\"\"Genera un vocabulario y lo guarda en una lista y diccionario\"\"\"\n",
        "    vocab_set = set()\n",
        "    SENTENCE_SPLIT_REGEX = re.compile(r'(\\W+)')\n",
        "    question_length = []\n",
        "    datasets = os.listdir(input_dir)\n",
        "    preguntas = []\n",
        "    print('Se eliminan los signos de puntuación: ',punctuation)\n",
        "    for dataset in ['MultipleChoice_abstract_v002_train2015_questions.json','MultipleChoice_abstract_v002_val2015_questions.json']:\n",
        "        a = 0    \n",
        "        with open(input_dir+'/'+dataset) as f:\n",
        "            questions = json.load(f)['questions']\n",
        "            if a==0:\n",
        "                print(questions[0]['question'])\n",
        "            a+=1\n",
        "        set_question_length = [None]*len(questions)\n",
        "        for iquestion, question in enumerate(questions):\n",
        "            all_text = question['question'].lower()\n",
        "            all_text = ''.join([c for c in all_text if c not in punctuation])\n",
        "\n",
        "            words = SENTENCE_SPLIT_REGEX.split(all_text)\n",
        "            preguntas.append(all_text)\n",
        "            words = [w.strip() for w in words if len(w.strip()) > 0]\n",
        "            vocab_set.update(words)\n",
        "            set_question_length[iquestion] = len(words)\n",
        "        question_length += set_question_length\n",
        "\n",
        "    vocab_list = list(vocab_set)\n",
        "    vocab_list.sort()\n",
        "    # se agregan 2 preguntas especiales para casos desconocidos\n",
        "    vocab_list.insert(0, '<pad>')\n",
        "    vocab_list.insert(1, '<unk>')\n",
        "    \n",
        "    print('Estamos haciendo un vocabulario con todas las palabras de todas las preguntas')\n",
        "    print('El número total de palabras en las preguntas son: %d' % len(vocab_set))\n",
        "    print('El largo máximo de una pregunta es: %d' % np.max(question_length))\n",
        "\n",
        "    return vocab_list, preguntas\n",
        "\n",
        "\n",
        "def make_vocab_answers(input_dir, n_answers):\n",
        "    \"\"\"Vocabulario con el top n_answers, retorna la lista con el top y las respuestas.\"\"\"\n",
        "    answers = defaultdict(lambda: 0)\n",
        "    datasets = os.listdir(input_dir)\n",
        "    for dataset in ['abstract_v002_train2015_annotations.json','abstract_v002_val2015_annotations.json']:\n",
        "        with open(input_dir+'/'+dataset) as f:\n",
        "            annotations = json.load(f)['annotations']\n",
        "        for annotation in annotations:\n",
        "            for answer in annotation['answers']:\n",
        "                word = answer['answer']\n",
        "                if re.search(r\"[^\\w\\s]\", word):\n",
        "                    continue\n",
        "                answers[word] += 1\n",
        "                \n",
        "    answers = sorted(answers, key=answers.get, reverse=True)\n",
        "    assert('<unk>' not in answers)\n",
        "    top_answers = ['<unk>'] + answers[:n_answers-1] # '-1' is due to '<unk>'\n",
        "    \n",
        "    print('Vocabulario para las respuestas')\n",
        "    print('Número total de respuestas: %d' % len(answers))\n",
        "    print('Guarda el %d de respuestas' % n_answers)\n",
        "    return top_answers, answers"
      ]
    },
    {
      "cell_type": "code",
      "source": [
        "def lookUpBOW(top_words, bow_dict,all_words):\n",
        "    \"\"\"Función auxiliar para generar una Look up table\"\"\"\n",
        "    bow_qns = np.zeros((len(all_words), 1024))\n",
        "\n",
        "    for i in range(len(all_words)):\n",
        "        w = all_words[i]\n",
        "        s =  w.split()\n",
        "        for word in s:\n",
        "            if word not in top_words:\n",
        "                idx = 0\n",
        "            else:\n",
        "                idx = top_words.index(word)\n",
        "            # se suma uno por las palabras repetidas\n",
        "            bow_qns[i][idx] += 1\n",
        "    return bow_qns"
      ],
      "metadata": {
        "id": "22MZQO4e_BpS"
      },
      "execution_count": null,
      "outputs": []
    },
    {
      "cell_type": "code",
      "execution_count": null,
      "metadata": {
        "id": "tAYTLiUfIvTq"
      },
      "outputs": [],
      "source": [
        "if bow:\n",
        "    # Se generan los vocabularios y las tablas para ver el funcionameinto.\n",
        "    top_questionsBOW,  qst_bow_dict, preguntas = make_bow_qst_vocabulary(\"Questions\",1024)\n",
        "    top_answersBOW,  ans_bow_dict = make_bow_ans_vocabulary(\"Annotations\",1000)\n",
        "\n",
        "    qst_bow_table = lookUpBOW(top_questionsBOW,  qst_bow_dict, preguntas)\n",
        "    ans_bow_table = lookUpBOW(top_answersBOW,  ans_bow_dict, top_answersBOW)"
      ]
    },
    {
      "cell_type": "markdown",
      "source": [
        "### Pruebas"
      ],
      "metadata": {
        "id": "lzuxh_1OBBrB"
      }
    },
    {
      "cell_type": "code",
      "execution_count": null,
      "metadata": {
        "colab": {
          "base_uri": "https://localhost:8080/"
        },
        "id": "LysidCEnSCJW",
        "outputId": "8bb1c8a5-233d-42b4-8c3f-7b9ece1b1788"
      },
      "outputs": [
        {
          "output_type": "stream",
          "name": "stdout",
          "text": [
            "Question who looks happier\n",
            "Question Bow [1. 0. 0. ... 0. 0. 0.]\n",
            "Answer [1. 0. 0. ... 0. 0. 0.]\n",
            "Answer Bow [1. 0. 0. ... 0. 0. 0.]\n",
            "Indice answer 0\n"
          ]
        }
      ],
      "source": [
        "print(\"Question\",preguntas[0])\n",
        "print(\"Question Bow\",qst_bow_table[0])\n",
        "print(\"Answer\",top_answersBOW[0])\n",
        "print(\"Answer Bow\",ans_bow_table[0])\n",
        "print(\"Indice answer\",np.argmax(ans_bow_table[0]))"
      ]
    },
    {
      "cell_type": "markdown",
      "source": [
        "## Funciones auxiliares para LSTM\n",
        "\n",
        "Se genera un diccionario para acceder a los indices de las palabras y transformar las palabras e indices de forma bidireccional. Cabe destacar que se eliminan los caracteres especiales, solo se consideran las palabras. Algunas de estas funciones se extrajeron del repositorio basic_vqa que se puede encontrar en las referencias del informe."
      ],
      "metadata": {
        "id": "B7gMF9_LBDGI"
      }
    },
    {
      "cell_type": "code",
      "execution_count": null,
      "metadata": {
        "id": "vnFBDtRWobe4"
      },
      "outputs": [],
      "source": [
        "import re\n",
        "\n",
        "SENTENCE_SPLIT_REGEX = re.compile(r'(\\W+)')\n",
        "\n",
        "def tokenize(sentence):\n",
        "    tokens = SENTENCE_SPLIT_REGEX.split(sentence.lower())\n",
        "    tokens = [t.strip() for t in tokens if len(t.strip()) > 0]\n",
        "    return tokens\n",
        "def load_str_list(fname):\n",
        "    with open(fname) as f:\n",
        "        lines = f.readlines()\n",
        "    lines = [l.strip() for l in lines]\n",
        "    return lines\n",
        "\n",
        "\n",
        "class VocabDict:\n",
        "\n",
        "    def __init__(self, word_list):\n",
        "        self.word_list = word_list\n",
        "        self.word2idx_dict = {w:n_w for n_w, w in enumerate(self.word_list)}\n",
        "        self.vocab_size = len(self.word_list)\n",
        "        self.unk2idx = self.word2idx_dict['<unk>'] if '<unk>' in self.word2idx_dict else None\n",
        "\n",
        "    def idx2word(self, n_w):\n",
        "\n",
        "        return self.word_list[n_w]\n",
        "\n",
        "    def word2idx(self, w):\n",
        "        if w in self.word2idx_dict:\n",
        "            return self.word2idx_dict[w]\n",
        "        elif self.unk2idx is not None:\n",
        "            return self.unk2idx\n",
        "        else:\n",
        "            raise ValueError('word %s not in dictionary (while dictionary does not contain <unk>)' % w)\n",
        "\n",
        "    def tokenize_and_index(self, sentence):\n",
        "        inds = [self.word2idx(w) for w in tokenize(sentence)]\n",
        "        return "
      ]
    },
    {
      "cell_type": "markdown",
      "source": [
        "# Dataset personalizados"
      ],
      "metadata": {
        "id": "MPsWq3VN_EQx"
      }
    },
    {
      "cell_type": "markdown",
      "source": [
        "## Dataset BoW"
      ],
      "metadata": {
        "id": "1JxNxL58_H75"
      }
    },
    {
      "cell_type": "code",
      "execution_count": null,
      "metadata": {
        "id": "MW1WiVl7IxVL"
      },
      "outputs": [],
      "source": [
        "import json\n",
        "import torch\n",
        "import os\n",
        "from torch.utils.data import Dataset\n",
        "from skimage import io\n",
        "import numpy as np\n",
        "from torchvision import transforms\n",
        "from PIL import Image\n",
        "\n",
        "class VQA_BOW(Dataset):\n",
        "  def __init__(self, questions_path: str, annotations_path: str, images_folder_path: str, transform ,max_qst_length=30, max_num_ans=10):\n",
        "    super(VQA_BOW, self).__init__()\n",
        "    self.qn_path = questions_path\n",
        "    self.an_path = annotations_path\n",
        "    self.img_path = images_folder_path\n",
        "\n",
        "    self.transform = transform\n",
        "\n",
        "    top_questionsBOW,  qst_bow_dict, preguntas = make_bow_qst_vocabulary(\"Questions\",1024)\n",
        "    top_answersBOW,  ans_bow_dict = make_bow_ans_vocabulary(\"Annotations\",1000)\n",
        "\n",
        "    self.top_answers = top_answersBOW\n",
        "\n",
        "    qst_bow_table = lookUpBOW(top_questionsBOW,  qst_bow_dict, preguntas)\n",
        "    ans_bow_table = lookUpBOW(top_answersBOW,  ans_bow_dict , top_answersBOW)\n",
        "\n",
        "    self.qst_bow_table = qst_bow_table\n",
        "    self.ans_bow_table = ans_bow_table\n",
        "\n",
        "    self.max_qst_length = max_qst_length\n",
        "    self.max_num_ans = max_num_ans\n",
        "\n",
        "    self.ann_dataset = json.load(open(self.an_path, 'r'))['annotations']\n",
        "    qn_json = json.load(open(self.qn_path, 'r'))\n",
        "    self.qn_dataset = qn_json['questions']\n",
        "    self.img_prefix = f\"{qn_json['data_type']}_{qn_json['data_subtype']}\"\n",
        "  \n",
        "  def __len__(self):\n",
        "    return len(self.qn_dataset)\n",
        "\n",
        "  def __getitem__(self, item: int):\n",
        "\n",
        "    qst_bow_table = self.qst_bow_table\n",
        "    ans_bow_table = self.ans_bow_table\n",
        "    max_qst_length = self.max_qst_length\n",
        "    max_num_ans = self.max_num_ans\n",
        "\n",
        "    \n",
        "    question = self.qn_dataset[item]\n",
        "    question_str = question['question']\n",
        "\n",
        "    qst_vec = qst_bow_table[item]\n",
        "\n",
        "    choices = question['multiple_choices']\n",
        "\n",
        "    answer = self.ann_dataset[item]['multiple_choice_answer']\n",
        "    \n",
        "    ans2idx = 0\n",
        "    if answer in self.top_answers:\n",
        "        #indice de la respuesta\n",
        "        ans2idx = self.top_answers.index(answer)\n",
        "\n",
        "    image = Image.open(os.path.join(self.img_path, f\"{self.img_prefix}_{question['image_id']:012d}.png\")).convert('RGB')\n",
        "    if self.transform:\n",
        "      image = self.transform(image)    \n",
        "    \n",
        "    return image, question_str, choices, answer, qst_vec, ans2idx\n"
      ]
    },
    {
      "cell_type": "markdown",
      "source": [
        "## Dataset LSTM"
      ],
      "metadata": {
        "id": "bsxRvUUO_FfR"
      }
    },
    {
      "cell_type": "code",
      "execution_count": null,
      "metadata": {
        "id": "ptV54Xr01frn"
      },
      "outputs": [],
      "source": [
        "import json\n",
        "import torch\n",
        "import os\n",
        "from torch.utils.data import Dataset\n",
        "from skimage import io\n",
        "import numpy as np\n",
        "from torchvision import transforms\n",
        "from PIL import Image\n",
        "\n",
        "class VQA_LSTM(Dataset):\n",
        "  def __init__(self, questions_path: str, annotations_path: str, images_folder_path: str, transform ,max_qst_length=30, max_num_ans=10):\n",
        "    super(VQA_LSTM, self).__init__()\n",
        "    self.qn_path = questions_path\n",
        "    self.an_path = annotations_path\n",
        "    self.img_path = images_folder_path\n",
        "\n",
        "    self.transform = transform\n",
        "\n",
        "    #retorna una lista con un vocabulario de preguntas\n",
        "    vocab_list, _ = make_vocab_questions('Questions')\n",
        "    #retorna una lista con el top 1000 respuestas\n",
        "    top_answers, _ = make_vocab_answers('Annotations',1000)\n",
        "\n",
        "    #Diccionario de preguntas\n",
        "    self.qst_vocab = VocabDict(vocab_list)\n",
        "    #Diccionario de respuestas\n",
        "    self.ans_vocab = VocabDict(top_answers)\n",
        "\n",
        "    self.max_qst_length = max_qst_length\n",
        "    self.max_num_ans = max_num_ans\n",
        "\n",
        "    self.ann_dataset = json.load(open(self.an_path, 'r'))['annotations']\n",
        "    qn_json = json.load(open(self.qn_path, 'r'))\n",
        "    self.qn_dataset = qn_json['questions']\n",
        "    self.img_prefix = f\"{qn_json['data_type']}_{qn_json['data_subtype']}\"\n",
        "  \n",
        "  def __len__(self):\n",
        "    return len(self.qn_dataset)\n",
        "\n",
        "  def __getitem__(self, item: int):\n",
        "\n",
        "    qst_vocab = self.qst_vocab\n",
        "    ans_vocab = self.ans_vocab\n",
        "    max_qst_length = self.max_qst_length\n",
        "    max_num_ans = self.max_num_ans\n",
        "\n",
        "    \n",
        "    question = self.qn_dataset[item]\n",
        "    question_str = question['question']\n",
        "\n",
        "    qst2idc = np.array([qst_vocab.word2idx('<pad>')] * max_qst_length)  # padded with '<pad>' in 'ans_vocab'\n",
        "    qst2idc[:len(tokenize(question['question']))] = [qst_vocab.word2idx(w) for w in tokenize(question['question'])]\n",
        "\n",
        "    choices = question['multiple_choices']\n",
        "\n",
        "    answer = self.ann_dataset[item]['multiple_choice_answer']\n",
        "    ans2idx = ans_vocab.word2idx(answer)\n",
        "\n",
        "    image = Image.open(os.path.join(self.img_path, f\"{self.img_prefix}_{question['image_id']:012d}.png\")).convert('RGB')\n",
        "    if self.transform:\n",
        "      image = self.transform(image)    \n",
        "\n",
        "    return image, question_str, choices, answer, qst2idc, ans2idx"
      ]
    },
    {
      "cell_type": "code",
      "execution_count": null,
      "metadata": {
        "colab": {
          "base_uri": "https://localhost:8080/"
        },
        "id": "-D91obs_a__7",
        "outputId": "b0166729-d646-4794-c6b0-ea991f0c0c6e"
      },
      "outputs": [
        {
          "output_type": "execute_result",
          "data": {
            "text/plain": [
              "(17, 'on grass')"
            ]
          },
          "metadata": {},
          "execution_count": 71
        }
      ],
      "source": [
        "# trabajo con listas\n",
        "L = ['2', 'yes', 'man on table', 'out on porch', 'cotton', '1', '3', 'blue', 'white', 'brown', 'no', 'yard', 'sandals', 'on deck', '4', 'pot', 'red', 'on grass']\n",
        "L.index('on grass'),L[17]"
      ]
    },
    {
      "cell_type": "code",
      "execution_count": null,
      "metadata": {
        "colab": {
          "base_uri": "https://localhost:8080/"
        },
        "id": "VeF_OoJmoi5j",
        "outputId": "2bf350cd-2a0b-4163-b7e6-93b67ffc3261"
      },
      "outputs": [
        {
          "output_type": "stream",
          "name": "stdout",
          "text": [
            "Se eliminan los signos de puntuación:  !\"#$%&'()*+,-./:;<=>?@[\\]^_`{|}~\n",
            "Who looks happier?\n",
            "Is the dog asleep?\n",
            "Estamos haciendo un vocabulario con todas las palabras de todas las preguntas\n",
            "El número total de palabras en las preguntas son: 5346\n",
            "El largo máximo de una pregunta es: 21\n",
            "Make vocabulary for answers\n",
            "The number of total words of answers: 24058\n",
            "Keep top 1000 answers into vocab\n"
          ]
        }
      ],
      "source": [
        "import matplotlib.pyplot as plt\n",
        "import numpy as np\n",
        "\n",
        "if not bow:\n",
        "    questions_path='Questions'\n",
        "    annotation_path='Annotations'\n",
        "\n",
        "    #generamos los archivos que despues se utilizan para generar el diccionario de preguntas\n",
        "    qvocab_list, preguntas = make_vocab_questions(questions_path)\n",
        "    #generamos los archivos que despues se utilizan para generar el diccionario de respuestas\n",
        "    top_answers, answers = make_vocab_answers(annotation_path,1000)\n",
        "\n",
        "    # Uso\n",
        "    dataset = VQA_LSTM(questions_path='Questions/MultipleChoice_abstract_v002_val2015_questions.json', \n",
        "                annotations_path='Annotations/abstract_v002_val2015_annotations.json',\n",
        "                images_folder_path='Images/val/', transform=transforms.Compose([\n",
        "                                                        transforms. ToTensor(),\n",
        "                                                        transforms.Resize((224,224))\n",
        "                                                    ]))\n",
        "\n",
        "    # Tomar muestra aleatoria\n",
        "    image, question, choices, answer, qst2idc, anslabel = dataset[50]\n",
        "\n",
        "    print(\"Dimension de la imagen:\",image.shape)\n",
        "    print(question,qst2idc)\n",
        "    print(\"Alternativas:\",choices)\n",
        "    print(\"Indice de la solución\",anslabel)\n",
        "\n",
        "\n",
        "    # Visualizar\n",
        "    img = image.numpy().transpose((1, 2, 0))\n",
        "    plt.imshow(img)\n",
        "    plt.suptitle(f\"{question}\")\n",
        "    plt.title(f\"{answer}\")\n",
        "    plt.axis('off')\n",
        "    plt.show()"
      ]
    },
    {
      "cell_type": "code",
      "execution_count": null,
      "metadata": {
        "colab": {
          "base_uri": "https://localhost:8080/",
          "height": 366
        },
        "id": "EImc7bz2Meu2",
        "outputId": "7b4c8925-483a-4502-8bdd-e321f2313f0a"
      },
      "outputs": [
        {
          "output_type": "stream",
          "name": "stdout",
          "text": [
            "Dimension de la imagen: torch.Size([3, 224, 224])\n",
            "Is the grass green? [0. 0. 2. ... 0. 0. 0.]\n",
            "Alternativas: ['exploring', 'no idea', 'to eat', '1', 'white', 'coat', 'not sure', 'red', '3', 'blue', 'football, soccer', '2', \"she's playing with her cat\", 'yes', 'no', '4', 'for fun', 'brown']\n",
            "Indice de la solución 0\n"
          ]
        },
        {
          "output_type": "display_data",
          "data": {
            "text/plain": [
              "<Figure size 432x288 with 1 Axes>"
            ],
            "image/png": "[encoded data removed]"
          },
          "metadata": {
            "needs_background": "light"
          }
        }
      ],
      "source": [
        "import matplotlib.pyplot as plt\n",
        "import numpy as np\n",
        "\n",
        "if bow:\n",
        "    # Uso\n",
        "    dataset = VQA_BOW(questions_path='Questions/MultipleChoice_abstract_v002_val2015_questions.json', \n",
        "                annotations_path='Annotations/abstract_v002_val2015_annotations.json',\n",
        "                images_folder_path='Images/val/', transform=transforms.Compose([\n",
        "                                                        transforms. ToTensor(),\n",
        "                                                        transforms.Resize((224,224))\n",
        "                                                    ]))\n",
        "\n",
        "    # Tomar muestra aleatoria\n",
        "    image, question, choices, answer, qst2idc, anslabel = dataset[50]\n",
        "\n",
        "    print(\"Dimension de la imagen:\",image.shape)\n",
        "    print(question,qst2idc)\n",
        "    print(\"Alternativas:\",choices)\n",
        "    print(\"Indice de la solución\",anslabel)\n",
        "    #print(\"Solución BOW\",top_answersBOW[anslabel])\n",
        "\n",
        "    # Visualizar\n",
        "    img = image.numpy().transpose((1, 2, 0))\n",
        "    plt.imshow(img)\n",
        "    plt.suptitle(f\"{question}\")\n",
        "    plt.title(f\"{answer}\")\n",
        "    plt.axis('off')\n",
        "    plt.show()"
      ]
    },
    {
      "cell_type": "code",
      "execution_count": null,
      "metadata": {
        "colab": {
          "base_uri": "https://localhost:8080/"
        },
        "id": "MJb-leLNEvoo",
        "outputId": "569d9818-da86-4a88-e652-f294cebec906"
      },
      "outputs": [
        {
          "output_type": "execute_result",
          "data": {
            "text/plain": [
              "(['<unk>', 'yes', 'no', '2', '1'], 1000)"
            ]
          },
          "metadata": {},
          "execution_count": 76
        }
      ],
      "source": [
        "#El indice de yes es el 1, entonces de las mil salidas la neurona con mayor probailidad deberia ser esa\n",
        "top_answers[0:5], len(top_answers)"
      ]
    },
    {
      "cell_type": "markdown",
      "source": [
        "# Generando los dataset\n",
        "\n",
        "Se generan los dataset para cada modelo."
      ],
      "metadata": {
        "id": "YsH9WA-zB_-B"
      }
    },
    {
      "cell_type": "code",
      "execution_count": null,
      "metadata": {
        "id": "4k2hpkZY-m6Q",
        "colab": {
          "base_uri": "https://localhost:8080/"
        },
        "outputId": "70db6a0e-ebf4-4006-edfe-02d10724dd16"
      },
      "outputs": [
        {
          "output_type": "stream",
          "name": "stdout",
          "text": [
            "Se eliminan los signos de puntuación:  !\"#$%&'()*+,-./:;<=>?@[\\]^_`{|}~\n",
            "Who looks happier?\n",
            "Is the dog asleep?\n",
            "Estamos haciendo un vocabulario con todas las palabras de todas las preguntas\n",
            "El número total de palabras en las preguntas son: 5346\n",
            "El largo máximo de una pregunta es: 21\n",
            "Make vocabulary for answers\n",
            "The number of total words of answers: 24058\n",
            "Keep top 1000 answers into vocab\n",
            "Se eliminan los signos de puntuación:  !\"#$%&'()*+,-./:;<=>?@[\\]^_`{|}~\n",
            "Who looks happier?\n",
            "Is the dog asleep?\n",
            "Estamos haciendo un vocabulario con todas las palabras de todas las preguntas\n",
            "El número total de palabras en las preguntas son: 5346\n",
            "El largo máximo de una pregunta es: 21\n",
            "Make vocabulary for answers\n",
            "The number of total words of answers: 24058\n",
            "Keep top 1000 answers into vocab\n"
          ]
        }
      ],
      "source": [
        "BATCH_SIZE = 64\n",
        "if bow == True:\n",
        "    trainDatasetBOW = VQA_BOW(questions_path='Questions/MultipleChoice_abstract_v002_train2015_questions.json', \n",
        "              annotations_path='Annotations/abstract_v002_train2015_annotations.json',\n",
        "              images_folder_path='Images/train/',  transform=transforms.Compose([\n",
        "                                                    transforms. ToTensor(),\n",
        "                                                    transforms.Resize((224,224))\n",
        "                                                ]))\n",
        "    valDatasetBOW   = VQA_BOW(questions_path='Questions/MultipleChoice_abstract_v002_val2015_questions.json', \n",
        "                annotations_path='Annotations/abstract_v002_val2015_annotations.json',\n",
        "                images_folder_path='Images/val/',  transform=transforms.Compose([\n",
        "                                                        transforms. ToTensor(),\n",
        "                                                        transforms.Resize((224,224))\n",
        "                                                    ]))\n",
        "    train_loader = torch.utils.data.DataLoader(trainDataset, batch_size=BATCH_SIZE, shuffle=True, num_workers=2, pin_memory=True)\n",
        "    val_loader = torch.utils.data.DataLoader(valDataset, batch_size=BATCH_SIZE, shuffle=True, num_workers=2, pin_memory=True)\n",
        "\n",
        "else:\n",
        "    trainDataset = VQA_LSTM(questions_path='Questions/MultipleChoice_abstract_v002_train2015_questions.json', \n",
        "                annotations_path='Annotations/abstract_v002_train2015_annotations.json',\n",
        "                images_folder_path='Images/train/',  transform=transforms.Compose([\n",
        "                                                        transforms. ToTensor(),\n",
        "                                                        transforms.Resize((224,224))\n",
        "                                                    ]))\n",
        "    valDataset   = VQA_LSTM(questions_path='Questions/MultipleChoice_abstract_v002_val2015_questions.json', \n",
        "                annotations_path='Annotations/abstract_v002_val2015_annotations.json',\n",
        "                images_folder_path='Images/val/',  transform=transforms.Compose([\n",
        "                                                        transforms. ToTensor(),\n",
        "                                                        transforms.Resize((224,224))\n",
        "                                                    ]))\n",
        "    train_loaderBOW = torch.utils.data.DataLoader(trainDatasetBOW, batch_size=BATCH_SIZE, shuffle=True, num_workers=2)\n",
        "    val_loaderBOW = torch.utils.data.DataLoader(valDatasetBOW, batch_size=BATCH_SIZE, shuffle=True, num_workers=2)"
      ]
    },
    {
      "cell_type": "markdown",
      "source": [
        "# Generando modelos\n",
        "\n"
      ],
      "metadata": {
        "id": "O6O4GX13C4ny"
      }
    },
    {
      "cell_type": "markdown",
      "metadata": {
        "id": "ISTu1_H3PZOf"
      },
      "source": [
        "## Primer modelo"
      ]
    },
    {
      "cell_type": "code",
      "execution_count": null,
      "metadata": {
        "id": "hZIQYSJpPZbO"
      },
      "outputs": [],
      "source": [
        "import torch\n",
        "import torch.nn as nn\n",
        "import torchvision.models as models\n",
        "\n",
        "\n",
        "class ImgEncoderBOW(nn.Module):\n",
        "\n",
        "    def __init__(self, embed_size):\n",
        "        \"\"\"Red VGG19 preentrenada con los pesos de imagenet\n",
        "        \"\"\"\n",
        "        super(ImgEncoderBOW, self).__init__()\n",
        "        model = models.vgg19(pretrained=True)\n",
        "        in_features = model.classifier[-1].in_features  # input size of feature vector\n",
        "        model.classifier = nn.Sequential(*list(model.classifier.children())[:-1])    # remove last fc layer\n",
        "\n",
        "        self.model = model                              # loaded model without last fc layer\n",
        "        self.fc = nn.Linear(in_features, embed_size)    # feature vector of image\n",
        "\n",
        "    def forward(self, image):\n",
        "        \"\"\"Extract feature vector from image vector.\n",
        "        \"\"\"\n",
        "        #image = image.permute(0, 3, 1, 2)\n",
        "        with torch.no_grad():\n",
        "            img_feature = self.model(image)                  # [batch_size, vgg16(19)_fc=4096]\n",
        "        img_feature = self.fc(img_feature)                   # [batch_size, embed_size]\n",
        "\n",
        "        l2_norm = img_feature.norm(p=2, dim=1, keepdim=True).detach()\n",
        "        img_feature = img_feature.div(l2_norm)               # l2-normalized feature vector\n",
        "\n",
        "        return img_feature\n",
        "\n",
        "class VqaModelBOW(nn.Module):\n",
        "\n",
        "    def __init__(self, embed_size, qst_vocab_size, word_embed_size, num_layers, hidden_size):\n",
        "\n",
        "        super(VqaModelBOW, self).__init__()\n",
        "        self.img_encoder = ImgEncoderBOW(embed_size)\n",
        "        self.tanh = nn.Tanh()\n",
        "        self.dropout = nn.Dropout(0.5)\n",
        "        self.fc1 = nn.Linear(embed_size, 1000)\n",
        "        self.fc2 = nn.Linear(1000, 1000)\n",
        "\n",
        "    def forward(self, img, qst_feature):\n",
        "        #se le pasa de forma directa el BoW encoding\n",
        "        img_feature = self.img_encoder(img)                    \n",
        "        combined_feature = torch.mul(img_feature, qst_feature)  \n",
        "        combined_feature = self.tanh(combined_feature)\n",
        "        combined_feature = self.dropout(combined_feature)\n",
        "        combined_feature = self.fc1(combined_feature)          \n",
        "        combined_feature = self.tanh(combined_feature)\n",
        "        combined_feature = self.dropout(combined_feature)\n",
        "        combined_feature = self.fc2(combined_feature)        \n",
        "\n",
        "        return combined_feature"
      ]
    },
    {
      "cell_type": "markdown",
      "metadata": {
        "id": "ip2KEpjJpWC_"
      },
      "source": [
        "## Segundo modelo "
      ]
    },
    {
      "cell_type": "code",
      "execution_count": null,
      "metadata": {
        "id": "dXsGA_wMoT2j"
      },
      "outputs": [],
      "source": [
        "import torch\n",
        "import torch.nn as nn\n",
        "import torchvision.models as models\n",
        "\n",
        "\n",
        "class ImgEncoder(nn.Module):\n",
        "\n",
        "    def __init__(self, embed_size):\n",
        "        \"\"\"Feature vector de la VGG19 preentrenada con los pesos de imagenet\n",
        "        \"\"\"\n",
        "        super(ImgEncoder, self).__init__()\n",
        "        model = models.vgg19(pretrained=True)\n",
        "        in_features = model.classifier[-1].in_features  # input size of feature vector\n",
        "        model.classifier = nn.Sequential(*list(model.classifier.children())[:-1])    # remove last fc layer\n",
        "\n",
        "        self.model = model                              # loaded model without last fc layer\n",
        "        self.fc = nn.Linear(in_features, embed_size)    # feature vector of image 4096->1000\n",
        "\n",
        "    def forward(self, image):\n",
        "        \"\"\"Se extraen las caracteristicas\n",
        "        \"\"\"\n",
        "        #image = image.permute(0, 3, 1, 2)\n",
        "        with torch.no_grad():\n",
        "            img_feature = self.model(image)            \n",
        "        img_feature = self.fc(img_feature)                   \n",
        "\n",
        "        l2_norm = img_feature.norm(p=2, dim=1, keepdim=True).detach()\n",
        "        img_feature = img_feature.div(l2_norm)          # se normaliza\n",
        "\n",
        "        return img_feature\n",
        "\n",
        "\n",
        "class QstEncoder(nn.Module):\n",
        "    \"\"\"Red neuronal recurrente LSTM\"\"\"\n",
        "\n",
        "    def __init__(self, qst_vocab_size, word_embed_size, embed_size, num_layers, hidden_size):\n",
        "\n",
        "        super(QstEncoder, self).__init__()\n",
        "        self.word2vec = nn.Embedding(qst_vocab_size, word_embed_size)\n",
        "        self.tanh = nn.Tanh()\n",
        "        self.lstm = nn.LSTM(word_embed_size, hidden_size, num_layers)\n",
        "        self.fc = nn.Linear(2*num_layers*hidden_size, embed_size)   \n",
        "        #LSTM con salida de tamaño 1024\n",
        "        \n",
        "    def forward(self, question):\n",
        "\n",
        "        qst_vec = self.word2vec(question)                             \n",
        "        qst_vec = self.tanh(qst_vec)\n",
        "        qst_vec = qst_vec.transpose(0, 1)                             \n",
        "        _, (hidden, cell) = self.lstm(qst_vec)                      \n",
        "        qst_feature = torch.cat((hidden, cell), 2)                    \n",
        "        qst_feature = qst_feature.transpose(0, 1)                  \n",
        "        qst_feature = qst_feature.reshape(qst_feature.size()[0], -1) \n",
        "        qst_feature = self.tanh(qst_feature)\n",
        "        qst_feature = self.fc(qst_feature)                            \n",
        "\n",
        "        return qst_feature\n",
        "\n",
        "\n",
        "class VqaModel(nn.Module):\n",
        "\n",
        "    def __init__(self, embed_size, qst_vocab_size, word_embed_size, num_layers, hidden_size):\n",
        "\n",
        "        super(VqaModel, self).__init__()\n",
        "        self.img_encoder = ImgEncoder(embed_size)\n",
        "        self.qst_encoder = QstEncoder(qst_vocab_size, word_embed_size, embed_size, num_layers, hidden_size)\n",
        "        self.tanh = nn.Tanh()\n",
        "        self.dropout = nn.Dropout(0.5)\n",
        "        self.fc1 = nn.Linear(embed_size, 1000)\n",
        "        self.fc2 = nn.Linear(1000, 1000)\n",
        "\n",
        "    def forward(self, img, qst):\n",
        "        img_feature = self.img_encoder(img)                     \n",
        "        qst_feature = self.qst_encoder(qst)                     \n",
        "        combined_feature = torch.mul(img_feature, qst_feature)  \n",
        "        combined_feature = self.tanh(combined_feature)\n",
        "        combined_feature = self.dropout(combined_feature)\n",
        "        combined_feature = self.fc1(combined_feature)          \n",
        "        combined_feature = self.tanh(combined_feature)\n",
        "        combined_feature = self.dropout(combined_feature)\n",
        "        combined_feature = self.fc2(combined_feature)      #salida de 1000    \n",
        "\n",
        "        return combined_feature"
      ]
    },
    {
      "cell_type": "code",
      "execution_count": null,
      "metadata": {
        "id": "RR0fFeBeNrpC"
      },
      "outputs": [],
      "source": [
        "if not bow:\n",
        "    qst_vocab_size = train_loader.dataset.qst_vocab.vocab_size\n",
        "    ans_vocab_size = 1000\n",
        "embed_size = 1024\n",
        "word_embed_size = 300\n",
        "num_layers = 2\n",
        "hidden_size = 512\n",
        "learning_rate = 0.001"
      ]
    },
    {
      "cell_type": "code",
      "execution_count": null,
      "metadata": {
        "id": "R6RKLiVF8aKT",
        "colab": {
          "base_uri": "https://localhost:8080/"
        },
        "outputId": "924dc53a-af7d-4590-889c-e53f1ac40eeb"
      },
      "outputs": [
        {
          "output_type": "stream",
          "name": "stdout",
          "text": [
            "Tamaño de los vocabularios, question vocab size:  5348 answer vocab size 1000\n"
          ]
        }
      ],
      "source": [
        "print(\"Tamaño de los vocabularios, question vocab size: \",qst_vocab_size,\"answer vocab size\",ans_vocab_size)"
      ]
    },
    {
      "cell_type": "code",
      "execution_count": null,
      "metadata": {
        "id": "f2pLDp0sQMyd",
        "colab": {
          "base_uri": "https://localhost:8080/"
        },
        "outputId": "4cf4bce0-2f86-4237-af9c-e350bbd21b40"
      },
      "outputs": [
        {
          "output_type": "stream",
          "name": "stdout",
          "text": [
            "60000 30000\n"
          ]
        }
      ],
      "source": [
        "print(len(train_loader.dataset),len(val_loader.dataset))"
      ]
    },
    {
      "cell_type": "code",
      "execution_count": null,
      "metadata": {
        "colab": {
          "base_uri": "https://localhost:8080/"
        },
        "outputId": "924dc53a-af7d-4590-889c-e53f1ac40eeb",
        "id": "UenU2kIqG2-W"
      },
      "outputs": [
        {
          "output_type": "stream",
          "name": "stdout",
          "text": [
            "Tamaño de los vocabularios, question vocab size:  5348 answer vocab size 1000\n"
          ]
        }
      ],
      "source": [
        "print(\"Tamaño de los vocabularios, question vocab size: \",qst_vocab_size,\"answer vocab size\",ans_vocab_size)"
      ]
    },
    {
      "cell_type": "code",
      "execution_count": null,
      "metadata": {
        "colab": {
          "base_uri": "https://localhost:8080/"
        },
        "outputId": "4cf4bce0-2f86-4237-af9c-e350bbd21b40",
        "id": "Q8WMeOgmG2-W"
      },
      "outputs": [
        {
          "output_type": "stream",
          "name": "stdout",
          "text": [
            "60000 30000\n"
          ]
        }
      ],
      "source": [
        "print(len(train_loader.dataset),len(val_loader.dataset))"
      ]
    },
    {
      "cell_type": "markdown",
      "metadata": {
        "id": "I45NVmR9qxYO"
      },
      "source": [
        "# Train function"
      ]
    },
    {
      "cell_type": "markdown",
      "source": [
        "## Device\n",
        "\n",
        "Se utiliza el entorno GPU."
      ],
      "metadata": {
        "id": "Rx-PTjt4G5kS"
      }
    },
    {
      "cell_type": "code",
      "execution_count": null,
      "metadata": {
        "id": "09ztpjCJBK6o",
        "colab": {
          "base_uri": "https://localhost:8080/",
          "height": 36
        },
        "outputId": "829e3396-e859-476f-cfc1-7b6c838ae44b"
      },
      "outputs": [
        {
          "output_type": "execute_result",
          "data": {
            "text/plain": [
              "'cuda'"
            ],
            "application/vnd.google.colaboratory.intrinsic+json": {
              "type": "string"
            }
          },
          "metadata": {},
          "execution_count": 86
        }
      ],
      "source": [
        "device = ('cuda' if torch.cuda.is_available() else 'cpu')\n",
        "device"
      ]
    },
    {
      "cell_type": "markdown",
      "source": [
        "## Función Train para el primer modelo\n",
        "\n",
        "En base a los modelos de la tarea 5 y del curso Deep learning."
      ],
      "metadata": {
        "id": "JqX6ebvuG_u6"
      }
    },
    {
      "cell_type": "code",
      "execution_count": null,
      "metadata": {
        "id": "gOLul3VFQeKX"
      },
      "outputs": [],
      "source": [
        "import time\n",
        "import copy\n",
        "\n",
        "def trainBOW(net, optimizer, num_epocas):\n",
        "    inicio = time.time()\n",
        "\n",
        "    #copiamos el modelo utilizando la libreria copy\n",
        "    best_model_wts = copy.deepcopy(net.state_dict()) \n",
        "    train_losses, train_counter, train_accuracy, val_losses,val_accuracy,val_counter  = [],[],[],[],[],[]\n",
        "    \n",
        "    best_acc = 0.0\n",
        "    best_loss = 2e32\n",
        "    for epoch in range(num_epocas):\n",
        "        print('Epoch {}/{}'.format(epoch, num_epocas-1))\n",
        "        print('-' * 10)\n",
        "\n",
        "        net.train() #Modo entrenamiento\n",
        "\n",
        "        running_loss = 0.0\n",
        "        running_corrects = 0.0\n",
        "        batch_size = 64\n",
        "        batch_step_size = len(train_loaderBOW.dataset) / batch_size\n",
        "        a=0\n",
        "        for batch_idx, batch_sample in enumerate(train_loaderBOW):\n",
        "            image = batch_sample[0].to(device).float()\n",
        "            question = batch_sample[4].to(device).float()\n",
        "            label = batch_sample[5].to(device)\n",
        "            optimizer.zero_grad()\n",
        "            if a==0:\n",
        "              print(image.shape,question.shape,label.shape)\n",
        "              print(\"question\",question[0])\n",
        "              print(\"label\",label[0])\n",
        "              a+=1\n",
        "\n",
        "            output = net(image,question) #salidas de la red\n",
        "            pred_indices = torch.argmax(output,1)  # [batch_size]\n",
        "            loss = criterion(output, label)\n",
        "\n",
        "            loss.backward()\n",
        "            optimizer.step()\n",
        "\n",
        "            running_loss += loss.item()\n",
        "            running_corrects += torch.sum(pred_indices == label.data)\n",
        "            if batch_idx %100 == 0:\n",
        "                print('Batch idx: ',batch_idx,' Batch Step: ' ,int(batch_step_size)) #para ver el avance\n",
        "\n",
        "        epoch_loss = running_loss /len(train_loaderBOW.dataset) #promedio de error \n",
        "        epoch_acc = running_corrects / len(train_loaderBOW.dataset) #promedio de accuracy\n",
        "        train_losses.append(epoch_loss)\n",
        "        train_counter.append(epoch)\n",
        "        train_accuracy.append(epoch_acc)\n",
        "\n",
        "        print('Train Loss: {:.4f} Acc: {:.4f}'.format(epoch_loss, epoch_acc))\n",
        "\n",
        "        #Validacion \n",
        "        net.eval()\n",
        "\n",
        "        running_loss = 0.0\n",
        "        running_corrects = 0.0\n",
        "        for batch_idx, batch_sample in enumerate(val_loaderBOW):\n",
        "            image = batch_sample[0].to(device).float()\n",
        "            question = batch_sample[4].to(device).float()\n",
        "            label = batch_sample[5].to(device)\n",
        "            with torch.set_grad_enabled(False):\n",
        "                output = net(image,question) #salidas de la red\n",
        "                _, pred_indices = torch.max(output, 1)  # [batch_size]\n",
        "                loss = criterion(output, label)\n",
        " \n",
        "                running_loss += loss.item()\n",
        "                running_corrects += torch.sum(pred_indices == label)\n",
        "        \n",
        "        epoch_loss = running_loss /len(val_loaderBOW.dataset) #promedio de error \n",
        "        epoch_acc = running_corrects / len(val_loaderBOW.dataset) #promedio de accuracy\n",
        "        val_losses.append(epoch_loss)\n",
        "        val_counter.append(epoch)\n",
        "        val_accuracy.append(epoch_acc)\n",
        "        #chekpoint\n",
        "        if epoch_loss < best_loss:\n",
        "            best_loss = epoch_loss\n",
        "            best_model_wts = copy.deepcopy(net.state_dict())\n",
        "        \n",
        "        # early stopping, si el error aumenta más de 5 veces respecto al menor error,\n",
        "        # terminamos el entrenamiento\n",
        "        if epoch_loss > best_loss*5:\n",
        "            print('\\n'+'-' * 10+'Early Stopping'+'-' * 10+'\\n')\n",
        "            break\n",
        "\n",
        "    print('Best val loss: {:.4f}'.format(best_loss))\n",
        "\n",
        "    final = time.time()\n",
        "    print('Training complete in {:.0f}m {:.0f}s'.format((final-inicio)//60, (final-inicio) % 60))\n",
        "\n",
        "    net.load_state_dict(best_model_wts)\n",
        "    return net, train_counter,train_losses,train_accuracy,val_counter,val_losses,val_accuracy"
      ]
    },
    {
      "cell_type": "markdown",
      "source": [
        "## Función train para el segundo modelo"
      ],
      "metadata": {
        "id": "8FfbSXF-HYUD"
      }
    },
    {
      "cell_type": "code",
      "execution_count": null,
      "metadata": {
        "id": "gKWUup31qw_j"
      },
      "outputs": [],
      "source": [
        "import time\n",
        "import copy\n",
        "\n",
        "def train(net, optimizer, num_epocas):\n",
        "    inicio = time.time()\n",
        "\n",
        "    ans_unk_idx = train_loader.dataset.ans_vocab.unk2idx\n",
        "\n",
        "    #copiamos el modelo utilizando la libreria copy\n",
        "    best_model_wts = copy.deepcopy(net.state_dict()) \n",
        "    train_losses, train_counter, train_accuracy, val_losses,val_accuracy,val_counter  = [],[],[],[],[],[]\n",
        "    \n",
        "    best_acc = 0.0\n",
        "    best_loss = 2e32\n",
        "    for epoch in range(num_epocas):\n",
        "        print('Epoch {}/{}'.format(epoch, num_epocas-1))\n",
        "        print('-' * 10)\n",
        "\n",
        "        net.train() #Modo entrenamiento\n",
        "\n",
        "        running_loss = 0.0\n",
        "        running_corrects = 0.0\n",
        "        batch_size = 64\n",
        "        batch_step_size = len(train_loader.dataset) / batch_size\n",
        "        for batch_idx, batch_sample in enumerate(train_loader):\n",
        "            image = batch_sample[0].to(device).float()\n",
        "            question = batch_sample[4].to(device).float()\n",
        "            label = batch_sample[5].to(device)\n",
        "\n",
        "            optimizer.zero_grad()\n",
        "\n",
        "            output = net(image,question) #salidas de la red\n",
        "            pred_indices = torch.argmax(output,1)  # [batch_size]\n",
        "            loss = criterion(output, label)\n",
        "\n",
        "            loss.backward()\n",
        "            optimizer.step()\n",
        "\n",
        "            #castigamos en caso de que la respuesta sea desconocida\n",
        "            pred_indices[pred_indices == ans_unk_idx] = -9999\n",
        "            running_loss += loss.item()\n",
        "            running_corrects += torch.sum(pred_indices == label.data)\n",
        "            if batch_idx %100 == 0:\n",
        "                print('Batch idx: ',batch_idx,' Batch Step: ' ,int(batch_step_size))\n",
        "\n",
        "        epoch_loss = running_loss /len(train_loader.dataset) #promedio de error \n",
        "        epoch_acc = running_corrects / len(train_loader.dataset) #promedio de accuracy\n",
        "        train_losses.append(epoch_loss)\n",
        "        train_counter.append(epoch)\n",
        "        train_accuracy.append(epoch_acc)\n",
        "\n",
        "        print('Train Loss: {:.4f} Acc: {:.4f}'.format(epoch_loss, epoch_acc))\n",
        "\n",
        "        #Validacion \n",
        "        net.eval()\n",
        "\n",
        "        running_loss = 0.0\n",
        "        running_corrects = 0.0\n",
        "        for batch_idx, batch_sample in enumerate(val_loader):\n",
        "            image = batch_sample[0].to(device).float()\n",
        "            question = batch_sample[4].to(device).float()\n",
        "            label = batch_sample[5].to(device)\n",
        "            with torch.set_grad_enabled(False):\n",
        "                output = net(image,question) #salidas de la red\n",
        "                _, pred_indices = torch.max(output, 1)  # [batch_size]\n",
        "                loss = criterion(output, label)\n",
        " \n",
        "                #castigamos en caso de que la respuesta sea desconocida\n",
        "                pred_indices[pred_indices == ans_unk_idx] = -9999\n",
        "                running_loss += loss.item()\n",
        "                running_corrects += torch.sum(pred_indices == label)\n",
        "        \n",
        "        epoch_loss = running_loss /len(val_loader.dataset) #promedio de error \n",
        "        epoch_acc = running_corrects / len(val_loader.dataset) #promedio de accuracy\n",
        "        val_losses.append(epoch_loss)\n",
        "        val_counter.append(epoch)\n",
        "        val_accuracy.append(epoch_acc)\n",
        "        #chekpoint\n",
        "        if epoch_loss < best_loss:\n",
        "            best_loss = epoch_loss\n",
        "            best_model_wts = copy.deepcopy(net.state_dict())\n",
        "        \n",
        "        # early stopping, si el error aumenta más de 5 veces respecto al menor error,\n",
        "        # terminamos el entrenamiento\n",
        "        if epoch_loss > best_loss*5:\n",
        "            print('\\n'+'-' * 10+'Early Stopping'+'-' * 10+'\\n')\n",
        "            break\n",
        "\n",
        "    print('Best val loss: {:.4f}'.format(best_loss))\n",
        "\n",
        "    final = time.time()\n",
        "    print('Training complete in {:.0f}m {:.0f}s'.format((final-inicio)//60, (final-inicio) % 60))\n",
        "\n",
        "    net.load_state_dict(best_model_wts)\n",
        "    return net, train_counter,train_losses,train_accuracy,val_counter,val_losses,val_accuracy"
      ]
    },
    {
      "cell_type": "markdown",
      "source": [
        "# Inicializando los modelos\n",
        "\n",
        "Los demás parámetros se utilizan para generar el modelo del paper. \n",
        "\n",
        "* Utilizando Entropia cruzada.\n",
        "* Adam optimizer.\n",
        "* Bath Size de 64.\n",
        "* Learning rate de 0.001 (tambien se realizaron experimentos variando este valor)."
      ],
      "metadata": {
        "id": "RmLQILejHvRa"
      }
    },
    {
      "cell_type": "code",
      "execution_count": null,
      "metadata": {
        "id": "3FSUagpr_7vG"
      },
      "outputs": [],
      "source": [
        "if BOW == True:\n",
        "    net = VqaModelBOW(embed_size, qst_vocab_size, ans_vocab_size, word_embed_size, num_layers, hidden_size)\n",
        "    net.cuda()\n",
        "    criterion = nn.CrossEntropyLoss()\n",
        "    optimizer = torch.optim.Adam(net.parameters(), lr=learning_rate) \n",
        "    \n",
        "else:\n",
        "    net = VqaModel(embed_size, qst_vocab_size, ans_vocab_size, word_embed_size, num_layers, hidden_size)\n",
        "    net.cuda()\n",
        "    criterion = nn.CrossEntropyLoss()\n",
        "    optimizer = torch.optim.Adam(net.parameters(), lr=learning_rate) \n",
        "    model, train_counter,train_loss,train_accuracy,val_counter,val_loss,val_accuracy = train(net, optimizer, num_epocas=6)\n"
      ]
    },
    {
      "cell_type": "markdown",
      "source": [
        "# Entrenamos\n",
        "\n",
        "Se utilizan 6 epocas solamente debido al alto tiempo que toma entrenar."
      ],
      "metadata": {
        "id": "4payD4HTIyJb"
      }
    },
    {
      "cell_type": "code",
      "execution_count": null,
      "metadata": {
        "id": "xx5oiq69YGe9",
        "colab": {
          "base_uri": "https://localhost:8080/"
        },
        "outputId": "0eb22481-4d54-479a-84a7-b79cc39229bc"
      },
      "outputs": [
        {
          "output_type": "stream",
          "name": "stdout",
          "text": [
            "Epoch 0/5\n",
            "----------\n",
            "torch.Size([64, 3, 224, 224]) torch.Size([64, 1024]) torch.Size([64])\n",
            "question tensor([0., 0., 0.,  ..., 0., 0., 0.], device='cuda:0')\n",
            "label tensor(0, device='cuda:0')\n",
            "Batch idx:  0  Batch Step:  937\n",
            "Batch idx:  100  Batch Step:  937\n",
            "Batch idx:  200  Batch Step:  937\n",
            "Batch idx:  300  Batch Step:  937\n",
            "Batch idx:  400  Batch Step:  937\n",
            "Batch idx:  500  Batch Step:  937\n",
            "Batch idx:  600  Batch Step:  937\n",
            "Batch idx:  700  Batch Step:  937\n",
            "Batch idx:  800  Batch Step:  937\n",
            "Batch idx:  900  Batch Step:  937\n",
            "Train Loss: 0.0536 Acc: 0.3191\n",
            "Epoch 1/5\n",
            "----------\n",
            "torch.Size([64, 3, 224, 224]) torch.Size([64, 1024]) torch.Size([64])\n",
            "question tensor([0., 0., 0.,  ..., 0., 0., 0.], device='cuda:0')\n",
            "label tensor(2, device='cuda:0')\n",
            "Batch idx:  0  Batch Step:  937\n",
            "Batch idx:  100  Batch Step:  937\n",
            "Batch idx:  200  Batch Step:  937\n",
            "Batch idx:  300  Batch Step:  937\n",
            "Batch idx:  400  Batch Step:  937\n",
            "Batch idx:  500  Batch Step:  937\n",
            "Batch idx:  600  Batch Step:  937\n",
            "Batch idx:  700  Batch Step:  937\n",
            "Batch idx:  800  Batch Step:  937\n",
            "Batch idx:  900  Batch Step:  937\n",
            "Train Loss: 0.0476 Acc: 0.3450\n",
            "Epoch 2/5\n",
            "----------\n",
            "torch.Size([64, 3, 224, 224]) torch.Size([64, 1024]) torch.Size([64])\n",
            "question tensor([0., 0., 1.,  ..., 0., 0., 0.], device='cuda:0')\n",
            "label tensor(44, device='cuda:0')\n",
            "Batch idx:  0  Batch Step:  937\n",
            "Batch idx:  100  Batch Step:  937\n",
            "Batch idx:  200  Batch Step:  937\n",
            "Batch idx:  300  Batch Step:  937\n",
            "Batch idx:  400  Batch Step:  937\n",
            "Batch idx:  500  Batch Step:  937\n",
            "Batch idx:  600  Batch Step:  937\n",
            "Batch idx:  700  Batch Step:  937\n",
            "Batch idx:  800  Batch Step:  937\n",
            "Batch idx:  900  Batch Step:  937\n",
            "Train Loss: 0.0456 Acc: 0.3548\n",
            "Epoch 3/5\n",
            "----------\n",
            "torch.Size([64, 3, 224, 224]) torch.Size([64, 1024]) torch.Size([64])\n",
            "question tensor([0., 0., 1.,  ..., 0., 0., 0.], device='cuda:0')\n",
            "label tensor(5, device='cuda:0')\n",
            "Batch idx:  0  Batch Step:  937\n",
            "Batch idx:  100  Batch Step:  937\n",
            "Batch idx:  200  Batch Step:  937\n",
            "Batch idx:  300  Batch Step:  937\n",
            "Batch idx:  400  Batch Step:  937\n",
            "Batch idx:  500  Batch Step:  937\n",
            "Batch idx:  600  Batch Step:  937\n",
            "Batch idx:  700  Batch Step:  937\n",
            "Batch idx:  800  Batch Step:  937\n",
            "Batch idx:  900  Batch Step:  937\n",
            "Train Loss: 0.0441 Acc: 0.3643\n",
            "Epoch 4/5\n",
            "----------\n",
            "torch.Size([64, 3, 224, 224]) torch.Size([64, 1024]) torch.Size([64])\n",
            "question tensor([0., 0., 1.,  ..., 0., 0., 0.], device='cuda:0')\n",
            "label tensor(0, device='cuda:0')\n",
            "Batch idx:  0  Batch Step:  937\n",
            "Batch idx:  100  Batch Step:  937\n",
            "Batch idx:  200  Batch Step:  937\n",
            "Batch idx:  300  Batch Step:  937\n",
            "Batch idx:  400  Batch Step:  937\n",
            "Batch idx:  500  Batch Step:  937\n",
            "Batch idx:  600  Batch Step:  937\n",
            "Batch idx:  700  Batch Step:  937\n",
            "Batch idx:  800  Batch Step:  937\n",
            "Batch idx:  900  Batch Step:  937\n",
            "Train Loss: 0.0427 Acc: 0.3717\n",
            "Epoch 5/5\n",
            "----------\n",
            "torch.Size([64, 3, 224, 224]) torch.Size([64, 1024]) torch.Size([64])\n",
            "question tensor([0., 0., 1.,  ..., 0., 0., 0.], device='cuda:0')\n",
            "label tensor(8, device='cuda:0')\n",
            "Batch idx:  0  Batch Step:  937\n",
            "Batch idx:  100  Batch Step:  937\n",
            "Batch idx:  200  Batch Step:  937\n",
            "Batch idx:  300  Batch Step:  937\n",
            "Batch idx:  400  Batch Step:  937\n",
            "Batch idx:  500  Batch Step:  937\n",
            "Batch idx:  600  Batch Step:  937\n",
            "Batch idx:  700  Batch Step:  937\n",
            "Batch idx:  800  Batch Step:  937\n",
            "Batch idx:  900  Batch Step:  937\n",
            "Train Loss: 0.0418 Acc: 0.3755\n",
            "Best val loss: 0.0698\n",
            "Training complete in 108m 16s\n"
          ]
        }
      ],
      "source": [
        "if BOW == True:\n",
        "    model, train_counter,train_loss,train_accuracy,val_counter,val_loss,val_accuracy = trainBOW(net, optimizer, num_epocas=6)\n",
        "else:\n",
        "    model, train_counter,train_loss,train_accuracy,val_counter,val_loss,val_accuracy = train(net, optimizer, num_epocas=6)"
      ]
    },
    {
      "cell_type": "code",
      "execution_count": null,
      "metadata": {
        "id": "xJb4l5hMVGyn"
      },
      "outputs": [],
      "source": [
        "plt.figure()\n",
        "#2b. Graficar las curvas de loss de entrenamiento y validación\n",
        "plt.title(f\"Loss curve Lr={learning_rate}\")\n",
        "plt.plot(train_counter, train_loss, label='Entrenamiento',color='blue')\n",
        "plt.plot(val_counter,val_loss, label='Validacion',color='red')\n",
        "plt.xlabel(\"Epochs\")\n",
        "plt.ylabel(\"Loss\")\n",
        "plt.legend()\n",
        "plt.show()\n",
        "\n",
        "train_accuracy_list = []\n",
        "for x in train_accuracy:\n",
        "  train_accuracy_list.append(x.cpu())\n",
        "\n",
        "val_accuracy_list = []\n",
        "for x in val_accuracy:\n",
        "  val_accuracy_list.append(x.cpu())\n",
        "\n",
        "plt.figure()\n",
        "plt.title(f\"Model Accuracy Lr={learning_rate}\")\n",
        "plt.plot(train_counter, train_accuracy_list, label='Entrenamiento',color='blue')\n",
        "plt.plot(val_counter,val_accuracy_list, label='Validacion',color='red')\n",
        "plt.xlabel(\"Epochs\")\n",
        "plt.ylabel(\"Accuracy\")\n",
        "plt.legend()\n",
        "plt.show()"
      ]
    },
    {
      "cell_type": "code",
      "execution_count": null,
      "metadata": {
        "id": "teHrH9Z0Qybv"
      },
      "outputs": [],
      "source": [
        "print(\"Mayor accuracy en entrenamiento:\",max(train_accuracy_list), \"\\nMayor accuracy en validación\",max(val_accuracy_list))"
      ]
    },
    {
      "cell_type": "code",
      "execution_count": null,
      "metadata": {
        "id": "ScFfpCk2Qybv"
      },
      "outputs": [],
      "source": [
        "print(\"Menor loss en entrenamiento:\",min(train_loss), \"\\nMenor loss en validación\",min(val_loss))"
      ]
    },
    {
      "cell_type": "markdown",
      "metadata": {
        "id": "iWBLRLT3ErM_"
      },
      "source": [
        "# Visualizando los resultados en el conjunto de validación"
      ]
    },
    {
      "cell_type": "code",
      "execution_count": null,
      "metadata": {
        "id": "PmC1n2q-7smw"
      },
      "outputs": [],
      "source": [
        "model.eval()\n",
        "\n",
        "if BOW==True:\n",
        "    val_loader = torch.utils.data.DataLoader(valDataset, batch_size=1, num_workers=2, pin_memory=True)\n",
        "\n",
        "    for batch_idx, batch_sample in enumerate(val_loader):\n",
        "        if batch_idx<10:\n",
        "            image = batch_sample[0].to(device).float()\n",
        "            question = batch_sample[4].to(device)\n",
        "            label = batch_sample[5].to(device)\n",
        "            with torch.set_grad_enabled(False):\n",
        "                output = net(image,question) #salidas de la red\n",
        "                _, pred_indice = torch.max(output, 1)  \n",
        "\n",
        "            pred_answer = dataset.ans_vocab.idx2word(pred_indice)\n",
        "            answer = dataset.ans_vocab.idx2word(label)\n",
        "            question_str = \"\"\n",
        "            for x in question[0]:\n",
        "                if x!=0:\n",
        "                    if dataset.qst_vocab.idx2word(x)=='<unk>':\n",
        "                        question_str+='?'\n",
        "                    else:\n",
        "                        question_str+=dataset.qst_vocab.idx2word(x)+' '\n",
        "                \n",
        "            question_str\n",
        "            print(\"\\n\")\n",
        "            # Visualizar\n",
        "            img = np.squeeze(image.cpu().numpy()).transpose((1, 2, 0))\n",
        "            plt.imshow(img)\n",
        "            plt.suptitle(f\"{question_str}\")\n",
        "            plt.title(f\"Real:{answer} - Pred:{pred_answer}\")\n",
        "            plt.axis('off')\n",
        "            plt.show()\n",
        "\n",
        "            time.sleep(1)"
      ]
    },
    {
      "cell_type": "markdown",
      "source": [
        "# Se guarda el modelo"
      ],
      "metadata": {
        "id": "P7u-jbNHJBUS"
      }
    },
    {
      "cell_type": "code",
      "source": [
        "model = torch.save(model.state_dict(), \"modelo.pth\")"
      ],
      "metadata": {
        "id": "sZxigSIYCM3S"
      },
      "execution_count": null,
      "outputs": []
    }
  ]
}